{
 "cells": [
  {
   "cell_type": "code",
   "execution_count": 2,
   "metadata": {},
   "outputs": [],
   "source": [
    "import os\n",
    "import shutil\n",
    "import tensorflow as tf\n",
    "import matplotlib.pyplot as plt\n",
    "%matplotlib inline\n",
    "import numpy as np\n"
   ]
  },
  {
   "cell_type": "markdown",
   "metadata": {},
   "source": [
    "# managing data"
   ]
  },
  {
   "cell_type": "code",
   "execution_count": 32,
   "metadata": {},
   "outputs": [],
   "source": [
    "try:\n",
    "    os.chdir('E:\\\\cnns\\\\digit_prediction')\n",
    "    os.makedirs('training/0')\n",
    "    os.makedirs('training/1')\n",
    "    os.makedirs('training/2')\n",
    "    os.makedirs('training/3')\n",
    "    os.makedirs('training/4')\n",
    "    os.makedirs('training/5')\n",
    "    os.makedirs('training/6')\n",
    "    os.makedirs('training/7')\n",
    "    os.makedirs('training/8')\n",
    "    os.makedirs('training/9')\n",
    "except:\n",
    "    pass"
   ]
  },
  {
   "cell_type": "code",
   "execution_count": 36,
   "metadata": {},
   "outputs": [],
   "source": [
    "try:\n",
    "    os.chdir('E:\\\\cnns\\\\digit_prediction')\n",
    "    os.makedirs('testing/0')\n",
    "    os.makedirs('testing/1')\n",
    "    os.makedirs('testing/2')\n",
    "    os.makedirs('testing/3')\n",
    "    os.makedirs('testing/4')\n",
    "    os.makedirs('testing/5')\n",
    "    os.makedirs('testing/6')\n",
    "    os.makedirs('testing/7')\n",
    "    os.makedirs('testing/8')\n",
    "    os.makedirs('testing/9')\n",
    "except:\n",
    "    pass"
   ]
  },
  {
   "cell_type": "code",
   "execution_count": 49,
   "metadata": {},
   "outputs": [],
   "source": [
    "source_paths=[]\n",
    "for i in range(0,10):\n",
    "    source_paths.append('digit_'+str(i))\n",
    "training_destination=[]\n",
    "for j in range(0,10):\n",
    "    training_destination.append('training/'+str(j))\n",
    "testing_destination=[]\n",
    "for k in range(0,10):\n",
    "    testing_destination.append('testing/'+str(k))"
   ]
  },
  {
   "cell_type": "code",
   "execution_count": 51,
   "metadata": {},
   "outputs": [],
   "source": [
    "def split_data(source,training_destination,testing_destination,split_size):\n",
    "    files=os.listdir(source)\n",
    "    size=len(files)\n",
    "    training_size=split_size*size\n",
    "    for i,file in enumerate(files):\n",
    "        if i < training_size:\n",
    "            shutil.copyfile(source+'/'+file,training_destination+'/'+file)\n",
    "        else:\n",
    "            shutil.copyfile(source+'/'+file,testing_destination+'/'+file)"
   ]
  },
  {
   "cell_type": "code",
   "execution_count": 52,
   "metadata": {},
   "outputs": [],
   "source": [
    "for i in range(0,10):\n",
    "    split_data(source_paths[i],training_destination[i],testing_destination[i],0.8)"
   ]
  },
  {
   "cell_type": "code",
   "execution_count": 76,
   "metadata": {},
   "outputs": [
    {
     "name": "stdout",
     "output_type": "stream",
     "text": [
      "Found 5473 images belonging to 10 classes.\n"
     ]
    }
   ],
   "source": [
    "training_datagen=tf.keras.preprocessing.image.ImageDataGenerator(\n",
    "rescale=1/255.,\n",
    "zoom_range=0.2,\n",
    "width_shift_range=0.2,\n",
    "height_shift_range=0.2,\n",
    "fill_mode='nearest')\n",
    "training_data_generator=training_datagen.flow_from_directory(\n",
    "'training',\n",
    "class_mode='sparse',\n",
    "target_size=(32,32))"
   ]
  },
  {
   "cell_type": "code",
   "execution_count": 88,
   "metadata": {},
   "outputs": [],
   "source": [
    "model=tf.keras.Sequential()\n",
    "model.add(tf.keras.layers.Conv2D(32,(3,3),input_shape=(32,32,3),activation='relu'))\n",
    "model.add(tf.keras.layers.MaxPooling2D(2,2))\n",
    "model.add(tf.keras.layers.Conv2D(32,(3,3),activation='relu'))\n",
    "model.add(tf.keras.layers.MaxPooling2D(2,2))\n",
    "model.add(tf.keras.layers.Conv2D(64,(3,3),activation='relu'))\n",
    "model.add(tf.keras.layers.MaxPooling2D(2,2))\n",
    "model.add(tf.keras.layers.Flatten())\n",
    "model.add(tf.keras.layers.Dense(256,activation='relu'))\n",
    "model.add(tf.keras.layers.Dropout(0.3))\n",
    "model.add(tf.keras.layers.Dense(128,activation='relu'))\n",
    "model.add(tf.keras.layers.Dropout(0.3))\n",
    "model.add(tf.keras.layers.Dense(10,activation='softmax'))\n",
    "model.compile(\n",
    "loss=tf.keras.losses.SparseCategoricalCrossentropy(),optimizer=tf.keras.optimizers.RMSprop(lr=0.001),metrics=['acc'])"
   ]
  },
  {
   "cell_type": "code",
   "execution_count": 89,
   "metadata": {},
   "outputs": [
    {
     "name": "stdout",
     "output_type": "stream",
     "text": [
      "WARNING:tensorflow:sample_weight modes were coerced from\n",
      "  ...\n",
      "    to  \n",
      "  ['...']\n",
      "WARNING:tensorflow:sample_weight modes were coerced from\n",
      "  ...\n",
      "    to  \n",
      "  ['...']\n",
      "Train for 172 steps, validate for 43 steps\n",
      "Epoch 1/20\n",
      "172/172 [==============================] - 22s 126ms/step - loss: 2.2490 - acc: 0.1570 - val_loss: 2.0923 - val_acc: 0.2676\n",
      "Epoch 2/20\n",
      "172/172 [==============================] - 19s 111ms/step - loss: 1.9369 - acc: 0.3218 - val_loss: 1.7586 - val_acc: 0.4098\n",
      "Epoch 3/20\n",
      "172/172 [==============================] - 20s 114ms/step - loss: 1.5402 - acc: 0.4736 - val_loss: 1.9393 - val_acc: 0.4773\n",
      "Epoch 4/20\n",
      "172/172 [==============================] - 19s 110ms/step - loss: 1.3073 - acc: 0.5668 - val_loss: 1.3784 - val_acc: 0.5638\n",
      "Epoch 5/20\n",
      "172/172 [==============================] - 19s 111ms/step - loss: 1.1287 - acc: 0.6342 - val_loss: 1.4114 - val_acc: 0.5887\n",
      "Epoch 6/20\n",
      "172/172 [==============================] - 19s 112ms/step - loss: 1.0192 - acc: 0.6684 - val_loss: 1.2702 - val_acc: 0.6136\n",
      "Epoch 7/20\n",
      "172/172 [==============================] - 19s 111ms/step - loss: 0.9198 - acc: 0.6963 - val_loss: 1.2438 - val_acc: 0.6437\n",
      "Epoch 8/20\n",
      "172/172 [==============================] - 19s 112ms/step - loss: 0.8545 - acc: 0.7261 - val_loss: 1.1937 - val_acc: 0.6466\n",
      "Epoch 9/20\n",
      "172/172 [==============================] - 19s 112ms/step - loss: 0.8119 - acc: 0.7384 - val_loss: 1.2986 - val_acc: 0.6400\n",
      "Epoch 10/20\n",
      "172/172 [==============================] - 19s 112ms/step - loss: 0.7473 - acc: 0.7605 - val_loss: 1.2148 - val_acc: 0.6562\n",
      "Epoch 11/20\n",
      "172/172 [==============================] - 16s 91ms/step - loss: 0.7120 - acc: 0.7711 - val_loss: 0.9418 - val_acc: 0.7375\n",
      "Epoch 12/20\n",
      "172/172 [==============================] - 9s 52ms/step - loss: 0.6874 - acc: 0.7800 - val_loss: 0.9471 - val_acc: 0.7148\n",
      "Epoch 13/20\n",
      "172/172 [==============================] - 10s 56ms/step - loss: 0.6639 - acc: 0.7864 - val_loss: 0.9404 - val_acc: 0.7265\n",
      "Epoch 14/20\n",
      "172/172 [==============================] - 11s 62ms/step - loss: 0.6354 - acc: 0.7930 - val_loss: 1.0163 - val_acc: 0.7177\n",
      "Epoch 15/20\n",
      "172/172 [==============================] - 11s 65ms/step - loss: 0.6208 - acc: 0.8038 - val_loss: 0.9565 - val_acc: 0.7339\n",
      "Epoch 16/20\n",
      "172/172 [==============================] - 11s 61ms/step - loss: 0.6115 - acc: 0.8023 - val_loss: 1.4619 - val_acc: 0.6298\n",
      "Epoch 17/20\n",
      "172/172 [==============================] - 9s 54ms/step - loss: 0.5881 - acc: 0.8060 - val_loss: 0.9941 - val_acc: 0.7324\n",
      "Epoch 18/20\n",
      "172/172 [==============================] - 11s 63ms/step - loss: 0.5602 - acc: 0.8166 - val_loss: 1.4402 - val_acc: 0.6826\n",
      "Epoch 19/20\n",
      "172/172 [==============================] - 10s 61ms/step - loss: 0.5373 - acc: 0.8220 - val_loss: 1.1098 - val_acc: 0.7045\n",
      "Epoch 20/20\n",
      "172/172 [==============================] - 10s 57ms/step - loss: 0.5538 - acc: 0.8235 - val_loss: 1.0466 - val_acc: 0.7236\n"
     ]
    }
   ],
   "source": [
    "history=model.fit(training_data_generator,epochs=20,validation_data=testing_data_generator)"
   ]
  },
  {
   "cell_type": "code",
   "execution_count": 64,
   "metadata": {},
   "outputs": [
    {
     "name": "stdout",
     "output_type": "stream",
     "text": [
      "Found 1364 images belonging to 10 classes.\n"
     ]
    }
   ],
   "source": [
    "testing_datagen=tf.keras.preprocessing.image.ImageDataGenerator(\n",
    "rescale=1/255.)\n",
    "testing_data_generator=testing_datagen.flow_from_directory(\n",
    "'testing',\n",
    "class_mode='sparse',\n",
    "target_size=(32,32))"
   ]
  },
  {
   "cell_type": "code",
   "execution_count": 79,
   "metadata": {},
   "outputs": [
    {
     "name": "stdout",
     "output_type": "stream",
     "text": [
      "WARNING:tensorflow:sample_weight modes were coerced from\n",
      "  ...\n",
      "    to  \n",
      "  ['...']\n",
      "43/43 [==============================] - 2s 46ms/step - loss: 1.3905 - acc: 0.6386\n"
     ]
    },
    {
     "data": {
      "text/plain": [
       "[1.3905418251836024, 0.63856304]"
      ]
     },
     "execution_count": 79,
     "metadata": {},
     "output_type": "execute_result"
    }
   ],
   "source": [
    "model.evaluate(testing_data_generator,verbose=1)"
   ]
  },
  {
   "cell_type": "code",
   "execution_count": 90,
   "metadata": {},
   "outputs": [],
   "source": [
    "acc=history.history['acc']\n",
    "val_accuracy=history.history['val_acc']"
   ]
  },
  {
   "cell_type": "code",
   "execution_count": 91,
   "metadata": {},
   "outputs": [
    {
     "data": {
      "text/plain": [
       "[0.1569523,\n",
       " 0.32176137,\n",
       " 0.47359768,\n",
       " 0.5667824,\n",
       " 0.63420427,\n",
       " 0.66837204,\n",
       " 0.69632745,\n",
       " 0.72611,\n",
       " 0.7383519,\n",
       " 0.76046044,\n",
       " 0.7710579,\n",
       " 0.78001094,\n",
       " 0.786406,\n",
       " 0.7929837,\n",
       " 0.8037639,\n",
       " 0.8023022,\n",
       " 0.80595654,\n",
       " 0.816554,\n",
       " 0.82203543,\n",
       " 0.8234972]"
      ]
     },
     "execution_count": 91,
     "metadata": {},
     "output_type": "execute_result"
    }
   ],
   "source": [
    "acc"
   ]
  },
  {
   "cell_type": "code",
   "execution_count": 94,
   "metadata": {},
   "outputs": [
    {
     "data": {
      "text/plain": [
       "Text(0, 0.5, 'accuracy')"
      ]
     },
     "execution_count": 94,
     "metadata": {},
     "output_type": "execute_result"
    },
    {
     "data": {
      "image/png": "[encoded data removed]",
      "text/plain": [
       "<Figure size 432x288 with 1 Axes>"
      ]
     },
     "metadata": {
      "needs_background": "light"
     },
     "output_type": "display_data"
    }
   ],
   "source": [
    "plt.plot(range(len(acc)),acc)\n",
    "plt.plot(range(len(val_accuracy)),val_accuracy)\n",
    "plt.xlabel('epochs')\n",
    "plt.ylabel('accuracy')"
   ]
  },
  {
   "cell_type": "code",
   "execution_count": null,
   "metadata": {},
   "outputs": [],
   "source": []
  }
 ],
 "metadata": {
  "kernelspec": {
   "display_name": "Python 3",
   "language": "python",
   "name": "python3"
  },
  "language_info": {
   "codemirror_mode": {
    "name": "ipython",
    "version": 3
   },
   "file_extension": ".py",
   "mimetype": "text/x-python",
   "name": "python",
   "nbconvert_exporter": "python",
   "pygments_lexer": "ipython3",
   "version": "3.7.4"
  }
 },
 "nbformat": 4,
 "nbformat_minor": 2
}
