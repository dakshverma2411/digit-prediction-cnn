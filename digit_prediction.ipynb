{
 "cells": [
  {
   "cell_type": "code",
   "execution_count": 1,
   "metadata": {},
   "outputs": [],
   "source": [
    "import numpy as np\n",
    "import pandas as pd\n",
    "import os\n",
    "import glob\n",
    "import matplotlib.pyplot as plt\n",
    "%matplotlib inline"
   ]
  },
  {
   "cell_type": "code",
   "execution_count": 2,
   "metadata": {},
   "outputs": [],
   "source": [
    "import matplotlib.image as mpimg"
   ]
  },
  {
   "cell_type": "code",
   "execution_count": 3,
   "metadata": {},
   "outputs": [],
   "source": [
    "def get_dataset():\n",
    "    path='E:\\\\cnns\\\\digit_prediction\\\\digit_'\n",
    "    Y_list=[6]\n",
    "    X=mpimg.imread('E:\\\\cnns\\\\digit_prediction\\\\digit_6\\\\digit6__4cc17a78-77e9-11e7-8382-0af8d8ef1070.jpg')\n",
    "    X=X[:,:,1]\n",
    "    X=X[np.int64(np.linspace(0,199,64))]\n",
    "    X=X.T\n",
    "    X=X[np.int64(np.linspace(0,199,64))]\n",
    "    X=X.T\n",
    "    X=X.reshape(1,64,64)\n",
    "    \n",
    "    \n",
    "    for digit in range(0,10):\n",
    "        no_of_examples=len(glob.glob('E:\\\\cnns\\\\digit_prediction\\\\digit_'+str(digit)+'\\\\*'))\n",
    "        examples=glob.glob('E:\\\\cnns\\\\digit_prediction\\\\digit_'+str(digit)+'\\\\*')\n",
    "        for i in examples:\n",
    "            img=mpimg.imread(i)\n",
    "            img=img[:,:,1]\n",
    "            w=img.shape[0]\n",
    "            h=img.shape[1]\n",
    "            if w>=64 and h>=64:\n",
    "                img=img[np.int64(np.linspace(0,w-1,64))]\n",
    "                img=img.T\n",
    "                img=img[np.int64(np.linspace(0,h-1,64))]\n",
    "                img=img.T\n",
    "                position=np.random.randint(X.shape[0])\n",
    "                X=np.insert(X,position,values=img,axis=0)\n",
    "                Y_list.insert(position,digit)\n",
    "    Y=np.array(Y_list)\n",
    "    return (X,Y)\n",
    "    \n",
    "    \n",
    "            \n",
    "            \n",
    "            "
   ]
  },
  {
   "cell_type": "code",
   "execution_count": 4,
   "metadata": {},
   "outputs": [],
   "source": [
    "def normalize(X_train):\n",
    "    m=len(X_train)\n",
    "    mean=(1/m)*np.sum(X_train,axis=0,keepdims=True)\n",
    "    X_train=X_train-mean\n",
    "    variance=np.sum(np.square(X_train),axis=0,keepdims=True)\n",
    "    std=np.sqrt(variance)\n",
    "    X_train=X_train/std\n",
    "    return X_train\n",
    "    "
   ]
  },
  {
   "cell_type": "markdown",
   "metadata": {},
   "source": [
    "# preparing data"
   ]
  },
  {
   "cell_type": "code",
   "execution_count": 5,
   "metadata": {},
   "outputs": [],
   "source": [
    "X,Y=get_dataset()"
   ]
  },
  {
   "cell_type": "code",
   "execution_count": 6,
   "metadata": {},
   "outputs": [],
   "source": [
    "X_train=normalize(X)"
   ]
  },
  {
   "cell_type": "code",
   "execution_count": 7,
   "metadata": {},
   "outputs": [],
   "source": [
    "df_Y=pd.DataFrame(Y)"
   ]
  },
  {
   "cell_type": "code",
   "execution_count": 10,
   "metadata": {},
   "outputs": [],
   "source": [
    "# df=pd.get_dummies(df_Y[0])"
   ]
  },
  {
   "cell_type": "code",
   "execution_count": 8,
   "metadata": {},
   "outputs": [],
   "source": [
    "Y_train=np.array(df_Y)"
   ]
  },
  {
   "cell_type": "code",
   "execution_count": 9,
   "metadata": {},
   "outputs": [
    {
     "data": {
      "text/plain": [
       "(6144, 1)"
      ]
     },
     "execution_count": 9,
     "metadata": {},
     "output_type": "execute_result"
    }
   ],
   "source": [
    "Y_train.shape"
   ]
  },
  {
   "cell_type": "code",
   "execution_count": 10,
   "metadata": {},
   "outputs": [
    {
     "data": {
      "text/plain": [
       "(6144, 64, 64)"
      ]
     },
     "execution_count": 10,
     "metadata": {},
     "output_type": "execute_result"
    }
   ],
   "source": [
    "X_train.shape"
   ]
  },
  {
   "cell_type": "code",
   "execution_count": 11,
   "metadata": {},
   "outputs": [],
   "source": [
    "import tensorflow as tf"
   ]
  },
  {
   "cell_type": "code",
   "execution_count": 12,
   "metadata": {},
   "outputs": [],
   "source": [
    "from tensorflow import keras"
   ]
  },
  {
   "cell_type": "code",
   "execution_count": 13,
   "metadata": {},
   "outputs": [],
   "source": [
    "from tensorflow.keras import layers\n"
   ]
  },
  {
   "cell_type": "code",
   "execution_count": 148,
   "metadata": {},
   "outputs": [],
   "source": [
    "model=tf.keras.Sequential()"
   ]
  },
  {
   "cell_type": "code",
   "execution_count": 149,
   "metadata": {},
   "outputs": [],
   "source": [
    "model.add(tf.keras.layers.Conv2D(filters=32,kernel_size=(3,3),strides=(2,2),input_shape=(64,64,1),activation='relu'))"
   ]
  },
  {
   "cell_type": "code",
   "execution_count": 150,
   "metadata": {},
   "outputs": [],
   "source": [
    "model.add(tf.keras.layers.MaxPooling2D((2, 2)))"
   ]
  },
  {
   "cell_type": "code",
   "execution_count": 151,
   "metadata": {},
   "outputs": [],
   "source": [
    "model.add(tf.keras.layers.Conv2D(filters=32,kernel_size=(3,3),strides=(2,2),activation='relu'))"
   ]
  },
  {
   "cell_type": "code",
   "execution_count": 152,
   "metadata": {},
   "outputs": [],
   "source": [
    "model.add(tf.keras.layers.MaxPooling2D((2, 2)))"
   ]
  },
  {
   "cell_type": "code",
   "execution_count": 153,
   "metadata": {},
   "outputs": [],
   "source": [
    "model.add(tf.keras.layers.Conv2D(filters=32,kernel_size=(3,3),strides=(2,2),activation='relu'))"
   ]
  },
  {
   "cell_type": "code",
   "execution_count": 154,
   "metadata": {},
   "outputs": [],
   "source": [
    "# model.add(tf.keras.layers.MaxPooling2D((2, 2)))"
   ]
  },
  {
   "cell_type": "code",
   "execution_count": 155,
   "metadata": {},
   "outputs": [],
   "source": [
    "model.add(tf.keras.layers.Flatten())"
   ]
  },
  {
   "cell_type": "code",
   "execution_count": 156,
   "metadata": {},
   "outputs": [],
   "source": [
    "model.add(tf.keras.layers.Dense(32,activation='relu'))\n"
   ]
  },
  {
   "cell_type": "code",
   "execution_count": 157,
   "metadata": {},
   "outputs": [],
   "source": [
    "model.add(layers.Dropout(0.3))"
   ]
  },
  {
   "cell_type": "code",
   "execution_count": 158,
   "metadata": {},
   "outputs": [],
   "source": [
    "model.add(tf.keras.layers.Dense(16,activation='relu'))\n",
    "model.add(layers.Dropout(0.3))"
   ]
  },
  {
   "cell_type": "code",
   "execution_count": 159,
   "metadata": {},
   "outputs": [],
   "source": [
    "model.add(tf.keras.layers.Dense(10,activation='softmax'))"
   ]
  },
  {
   "cell_type": "code",
   "execution_count": 160,
   "metadata": {},
   "outputs": [],
   "source": [
    "model.compile(optimizer='adam',\n",
    "              loss=tf.keras.losses.SparseCategoricalCrossentropy(),\n",
    "              metrics=['accuracy'])"
   ]
  },
  {
   "cell_type": "code",
   "execution_count": 161,
   "metadata": {},
   "outputs": [
    {
     "name": "stdout",
     "output_type": "stream",
     "text": [
      "Model: \"sequential_10\"\n",
      "_________________________________________________________________\n",
      "Layer (type)                 Output Shape              Param #   \n",
      "=================================================================\n",
      "conv2d_30 (Conv2D)           (None, 31, 31, 32)        320       \n",
      "_________________________________________________________________\n",
      "max_pooling2d_21 (MaxPooling (None, 15, 15, 32)        0         \n",
      "_________________________________________________________________\n",
      "conv2d_31 (Conv2D)           (None, 7, 7, 32)          9248      \n",
      "_________________________________________________________________\n",
      "max_pooling2d_22 (MaxPooling (None, 3, 3, 32)          0         \n",
      "_________________________________________________________________\n",
      "conv2d_32 (Conv2D)           (None, 1, 1, 32)          9248      \n",
      "_________________________________________________________________\n",
      "flatten_10 (Flatten)         (None, 32)                0         \n",
      "_________________________________________________________________\n",
      "dense_19 (Dense)             (None, 32)                1056      \n",
      "_________________________________________________________________\n",
      "dropout_9 (Dropout)          (None, 32)                0         \n",
      "_________________________________________________________________\n",
      "dense_20 (Dense)             (None, 16)                528       \n",
      "_________________________________________________________________\n",
      "dropout_10 (Dropout)         (None, 16)                0         \n",
      "_________________________________________________________________\n",
      "dense_21 (Dense)             (None, 10)                170       \n",
      "=================================================================\n",
      "Total params: 20,570\n",
      "Trainable params: 20,570\n",
      "Non-trainable params: 0\n",
      "_________________________________________________________________\n"
     ]
    }
   ],
   "source": [
    "model.summary()"
   ]
  },
  {
   "cell_type": "code",
   "execution_count": 166,
   "metadata": {},
   "outputs": [
    {
     "name": "stdout",
     "output_type": "stream",
     "text": [
      "Train on 4999 samples\n",
      "Epoch 1/50\n",
      "4999/4999 [==============================] - 5s 1ms/sample - loss: 0.4989 - accuracy: 0.8376\n",
      "Epoch 2/50\n",
      "4999/4999 [==============================] - 5s 1ms/sample - loss: 0.4703 - accuracy: 0.8516\n",
      "Epoch 3/50\n",
      "4999/4999 [==============================] - 5s 1ms/sample - loss: 0.4933 - accuracy: 0.8424\n",
      "Epoch 4/50\n",
      "4999/4999 [==============================] - 5s 1ms/sample - loss: 0.4627 - accuracy: 0.8464\n",
      "Epoch 5/50\n",
      "4999/4999 [==============================] - 5s 1ms/sample - loss: 0.4509 - accuracy: 0.8508\n",
      "Epoch 6/50\n",
      "4999/4999 [==============================] - 5s 1ms/sample - loss: 0.4364 - accuracy: 0.8618\n",
      "Epoch 7/50\n",
      "4999/4999 [==============================] - 6s 1ms/sample - loss: 0.4431 - accuracy: 0.8580\n",
      "Epoch 8/50\n",
      "4999/4999 [==============================] - 6s 1ms/sample - loss: 0.4438 - accuracy: 0.8590\n",
      "Epoch 9/50\n",
      "4999/4999 [==============================] - 6s 1ms/sample - loss: 0.4318 - accuracy: 0.8578\n",
      "Epoch 10/50\n",
      "4999/4999 [==============================] - 6s 1ms/sample - loss: 0.4448 - accuracy: 0.8548\n",
      "Epoch 11/50\n",
      "4999/4999 [==============================] - 6s 1ms/sample - loss: 0.4295 - accuracy: 0.8596\n",
      "Epoch 12/50\n",
      "4999/4999 [==============================] - 6s 1ms/sample - loss: 0.4186 - accuracy: 0.8692\n",
      "Epoch 13/50\n",
      "4999/4999 [==============================] - 6s 1ms/sample - loss: 0.4153 - accuracy: 0.8650\n",
      "Epoch 14/50\n",
      "4999/4999 [==============================] - 6s 1ms/sample - loss: 0.4207 - accuracy: 0.8606\n",
      "Epoch 15/50\n",
      "4999/4999 [==============================] - 7s 1ms/sample - loss: 0.4186 - accuracy: 0.8654\n",
      "Epoch 16/50\n",
      "4999/4999 [==============================] - 6s 1ms/sample - loss: 0.3918 - accuracy: 0.8766\n",
      "Epoch 17/50\n",
      "4999/4999 [==============================] - 6s 1ms/sample - loss: 0.4039 - accuracy: 0.8658\n",
      "Epoch 18/50\n",
      "4999/4999 [==============================] - 6s 1ms/sample - loss: 0.4119 - accuracy: 0.8618\n",
      "Epoch 19/50\n",
      "4999/4999 [==============================] - 7s 1ms/sample - loss: 0.3947 - accuracy: 0.8732\n",
      "Epoch 20/50\n",
      "4999/4999 [==============================] - 6s 1ms/sample - loss: 0.3735 - accuracy: 0.8778\n",
      "Epoch 21/50\n",
      "4999/4999 [==============================] - 6s 1ms/sample - loss: 0.3732 - accuracy: 0.8802\n",
      "Epoch 22/50\n",
      "4999/4999 [==============================] - 6s 1ms/sample - loss: 0.3957 - accuracy: 0.8692\n",
      "Epoch 23/50\n",
      "4999/4999 [==============================] - 6s 1ms/sample - loss: 0.4162 - accuracy: 0.8666\n",
      "Epoch 24/50\n",
      "4999/4999 [==============================] - 7s 1ms/sample - loss: 0.3913 - accuracy: 0.8700\n",
      "Epoch 25/50\n",
      "4999/4999 [==============================] - 7s 1ms/sample - loss: 0.3551 - accuracy: 0.8852\n",
      "Epoch 26/50\n",
      "4999/4999 [==============================] - 6s 1ms/sample - loss: 0.3560 - accuracy: 0.8822\n",
      "Epoch 27/50\n",
      "4999/4999 [==============================] - 6s 1ms/sample - loss: 0.3669 - accuracy: 0.8826\n",
      "Epoch 28/50\n",
      "4999/4999 [==============================] - 6s 1ms/sample - loss: 0.3713 - accuracy: 0.8794\n",
      "Epoch 29/50\n",
      "4999/4999 [==============================] - 7s 1ms/sample - loss: 0.3804 - accuracy: 0.8810\n",
      "Epoch 30/50\n",
      "4999/4999 [==============================] - 7s 1ms/sample - loss: 0.3706 - accuracy: 0.8846\n",
      "Epoch 31/50\n",
      "4999/4999 [==============================] - 5s 1ms/sample - loss: 0.3511 - accuracy: 0.8836\n",
      "Epoch 32/50\n",
      "4999/4999 [==============================] - 6s 1ms/sample - loss: 0.3399 - accuracy: 0.8868\n",
      "Epoch 33/50\n",
      "4999/4999 [==============================] - 7s 1ms/sample - loss: 0.3455 - accuracy: 0.8838\n",
      "Epoch 34/50\n",
      "4999/4999 [==============================] - 6s 1ms/sample - loss: 0.3727 - accuracy: 0.8784\n",
      "Epoch 35/50\n",
      "4999/4999 [==============================] - 6s 1ms/sample - loss: 0.3548 - accuracy: 0.8846\n",
      "Epoch 36/50\n",
      "4999/4999 [==============================] - 6s 1ms/sample - loss: 0.3573 - accuracy: 0.8846\n",
      "Epoch 37/50\n",
      "4999/4999 [==============================] - 7s 1ms/sample - loss: 0.3626 - accuracy: 0.8826\n",
      "Epoch 38/50\n",
      "4999/4999 [==============================] - 7s 1ms/sample - loss: 0.3289 - accuracy: 0.88800s - loss: 0.3\n",
      "Epoch 39/50\n",
      "4999/4999 [==============================] - 7s 1ms/sample - loss: 0.3450 - accuracy: 0.8902\n",
      "Epoch 40/50\n",
      "4999/4999 [==============================] - 6s 1ms/sample - loss: 0.3103 - accuracy: 0.9006\n",
      "Epoch 41/50\n",
      "4999/4999 [==============================] - 6s 1ms/sample - loss: 0.3471 - accuracy: 0.8872\n",
      "Epoch 42/50\n",
      "4999/4999 [==============================] - 7s 1ms/sample - loss: 0.3157 - accuracy: 0.8910\n",
      "Epoch 43/50\n",
      "4999/4999 [==============================] - 6s 1ms/sample - loss: 0.3307 - accuracy: 0.8952\n",
      "Epoch 44/50\n",
      "4999/4999 [==============================] - 6s 1ms/sample - loss: 0.3360 - accuracy: 0.8882\n",
      "Epoch 45/50\n",
      "4999/4999 [==============================] - 5s 1ms/sample - loss: 0.3113 - accuracy: 0.8984\n",
      "Epoch 46/50\n",
      "4999/4999 [==============================] - 6s 1ms/sample - loss: 0.3161 - accuracy: 0.8940\n",
      "Epoch 47/50\n",
      "4999/4999 [==============================] - 6s 1ms/sample - loss: 0.3116 - accuracy: 0.8966\n",
      "Epoch 48/50\n",
      "4999/4999 [==============================] - 6s 1ms/sample - loss: 0.3238 - accuracy: 0.8954\n",
      "Epoch 49/50\n",
      "4999/4999 [==============================] - 6s 1ms/sample - loss: 0.3259 - accuracy: 0.8918\n",
      "Epoch 50/50\n",
      "4999/4999 [==============================] - 6s 1ms/sample - loss: 0.3200 - accuracy: 0.8966\n"
     ]
    }
   ],
   "source": [
    "history=model.fit(X_train.reshape(6144,64,64,1)[1:5000,:,:,:], Y_train[1:5000,:], epochs=50)"
   ]
  },
  {
   "cell_type": "code",
   "execution_count": 167,
   "metadata": {},
   "outputs": [
    {
     "name": "stdout",
     "output_type": "stream",
     "text": [
      "1144/1144 - 0s - loss: 1.3313 - accuracy: 0.7806\n"
     ]
    },
    {
     "data": {
      "text/plain": [
       "[1.3312565484247008, 0.7805944]"
      ]
     },
     "execution_count": 167,
     "metadata": {},
     "output_type": "execute_result"
    }
   ],
   "source": [
    "model.evaluate(X_train.reshape(6144,64,64,1)[5000:,:,:,:],Y_train[5000:,:], verbose=2)"
   ]
  },
  {
   "cell_type": "code",
   "execution_count": 168,
   "metadata": {},
   "outputs": [],
   "source": [
    "model.save('weights.h5')"
   ]
  },
  {
   "cell_type": "code",
   "execution_count": 197,
   "metadata": {
    "scrolled": true
   },
   "outputs": [
    {
     "data": {
      "text/plain": [
       "Text(0, 0.5, 'accuracy')"
      ]
     },
     "execution_count": 197,
     "metadata": {},
     "output_type": "execute_result"
    },
    {
     "data": {
      "image/png": "[encoded data removed]",
      "text/plain": [
       "<Figure size 576x288 with 1 Axes>"
      ]
     },
     "metadata": {
      "needs_background": "light"
     },
     "output_type": "display_data"
    }
   ],
   "source": [
    "fig=plt.figure(figsize=(8,4))\n",
    "axes=fig.add_axes([0,0,1,1])\n",
    "axes.plot(history.history['accuracy'])\n",
    "plt.xlabel('epochs')\n",
    "plt.ylabel('accuracy')"
   ]
  },
  {
   "cell_type": "code",
   "execution_count": 195,
   "metadata": {},
   "outputs": [],
   "source": [
    "fig.savefig('accuracy.jpg')"
   ]
  },
  {
   "cell_type": "code",
   "execution_count": 138,
   "metadata": {
    "scrolled": true
   },
   "outputs": [
    {
     "data": {
      "text/plain": [
       "<matplotlib.image.AxesImage at 0x264f974b848>"
      ]
     },
     "execution_count": 138,
     "metadata": {},
     "output_type": "execute_result"
    },
    {
     "data": {
      "image/png": "[encoded data removed]",
      "text/plain": [
       "<Figure size 432x288 with 1 Axes>"
      ]
     },
     "metadata": {
      "needs_background": "light"
     },
     "output_type": "display_data"
    }
   ],
   "source": [
    "plt.imshow(X_train[12])"
   ]
  },
  {
   "cell_type": "code",
   "execution_count": 188,
   "metadata": {},
   "outputs": [
    {
     "data": {
      "text/plain": [
       "array([[0, 0, 0, 0, 0, 0, 0, 0, 1, 0]], dtype=int64)"
      ]
     },
     "execution_count": 188,
     "metadata": {},
     "output_type": "execute_result"
    }
   ],
   "source": [
    "np.int64(model.predict(X_train[51].reshape(1,64,64,1))==np.max(model.predict(X_train[51].reshape(1,64,64,1))))"
   ]
  },
  {
   "cell_type": "code",
   "execution_count": 189,
   "metadata": {},
   "outputs": [
    {
     "data": {
      "text/plain": [
       "array([8])"
      ]
     },
     "execution_count": 189,
     "metadata": {},
     "output_type": "execute_result"
    }
   ],
   "source": [
    "Y_train[51]"
   ]
  },
  {
   "cell_type": "code",
   "execution_count": null,
   "metadata": {},
   "outputs": [],
   "source": []
  }
 ],
 "metadata": {
  "kernelspec": {
   "display_name": "Python 3",
   "language": "python",
   "name": "python3"
  },
  "language_info": {
   "codemirror_mode": {
    "name": "ipython",
    "version": 3
   },
   "file_extension": ".py",
   "mimetype": "text/x-python",
   "name": "python",
   "nbconvert_exporter": "python",
   "pygments_lexer": "ipython3",
   "version": "3.7.4"
  }
 },
 "nbformat": 4,
 "nbformat_minor": 2
}
